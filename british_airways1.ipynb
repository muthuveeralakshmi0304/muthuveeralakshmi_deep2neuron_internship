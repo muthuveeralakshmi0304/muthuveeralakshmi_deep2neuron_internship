{
  "nbformat": 4,
  "nbformat_minor": 0,
  "metadata": {
    "colab": {
      "provenance": [],
      "authorship_tag": "ABX9TyO7+6daPddWTH40mzfKthhu",
      "include_colab_link": true
    },
    "kernelspec": {
      "name": "python3",
      "display_name": "Python 3"
    },
    "language_info": {
      "name": "python"
    }
  },
  "cells": [
    {
      "cell_type": "markdown",
      "metadata": {
        "id": "view-in-github",
        "colab_type": "text"
      },
      "source": [
        "<a href=\"https://colab.research.google.com/github/muthuveeralakshmi0304/muthuveeralakshmi_deep2neuron_internship/blob/main/british_airways1.ipynb\" target=\"_parent\"><img src=\"https://colab.research.google.com/assets/colab-badge.svg\" alt=\"Open In Colab\"/></a>"
      ]
    },
    {
      "cell_type": "code",
      "execution_count": 8,
      "metadata": {
        "id": "OICy6Ia4MHGr"
      },
      "outputs": [],
      "source": [
        "import requests\n",
        "from bs4 import BeautifulSoup\n",
        "import pandas as pd\n",
        "import time\n",
        "import os"
      ]
    },
    {
      "cell_type": "code",
      "source": [
        "# Create folder to store data\n",
        "os.makedirs(\"data\", exist_ok=True)\n",
        "\n",
        "def get_reviews(url):\n",
        "    reviews = []\n",
        "    while url:\n",
        "        print(f\"Scraping: {url}\")\n",
        "        response = requests.get(url)\n",
        "        soup = BeautifulSoup(response.text, \"html.parser\")\n",
        "\n",
        "        review_blocks = soup.find_all(\"article\", {\"itemprop\": \"review\"})\n",
        "        for review in review_blocks:\n",
        "            try:\n",
        "                title = review.find(\"h2\").text.strip()\n",
        "                body = review.find(\"div\", {\"class\": \"text_content\"}).text.strip()\n",
        "                date = review.find(\"time\")[\"datetime\"]\n",
        "                reviews.append({\"date\": date, \"title\": title, \"review\": body})\n",
        "            except:\n",
        "                continue\n",
        "\n",
        "        # Go to next page\n",
        "        next_page = soup.find(\"a\", {\"class\": \"pagination-next\"})\n",
        "        if next_page and next_page.get(\"href\"):\n",
        "            url = \"https://www.airlinequality.com\" + next_page[\"href\"]\n",
        "            time.sleep(2)\n",
        "        else:\n",
        "            break\n",
        "\n",
        "    return pd.DataFrame(reviews)\n"
      ],
      "metadata": {
        "id": "y-sbzQbRMNdp"
      },
      "execution_count": 9,
      "outputs": []
    },
    {
      "cell_type": "code",
      "source": [
        "# Scrape British Airways reviews\n",
        "start_url = \"https://www.airlinequality.com/airline-reviews/british-airways/\"\n",
        "df = get_reviews(start_url)"
      ],
      "metadata": {
        "colab": {
          "base_uri": "https://localhost:8080/"
        },
        "id": "74wA0wk9MNZ3",
        "outputId": "542b21b5-d4b6-4443-a917-f44fe354abc8"
      },
      "execution_count": 10,
      "outputs": [
        {
          "output_type": "stream",
          "name": "stdout",
          "text": [
            "Scraping: https://www.airlinequality.com/airline-reviews/british-airways/\n"
          ]
        }
      ]
    },
    {
      "cell_type": "code",
      "source": [
        "# Save to CSV\n",
        "df.to_csv(\"data/british_airways_reviews.csv\", index=False)\n",
        "print(\"✅ Scraping complete! Saved to data/british_airways_reviews.csv\")"
      ],
      "metadata": {
        "colab": {
          "base_uri": "https://localhost:8080/"
        },
        "id": "e0vrpe2AMNUA",
        "outputId": "8c260b4e-ef2d-4715-cbbf-49afac7cf078"
      },
      "execution_count": 11,
      "outputs": [
        {
          "output_type": "stream",
          "name": "stdout",
          "text": [
            "✅ Scraping complete! Saved to data/british_airways_reviews.csv\n"
          ]
        }
      ]
    },
    {
      "cell_type": "code",
      "source": [
        "from google.colab import files\n",
        "files.download('data/british_airways_reviews.csv')\n"
      ],
      "metadata": {
        "colab": {
          "base_uri": "https://localhost:8080/",
          "height": 17
        },
        "id": "hoegYPqANzlg",
        "outputId": "e9183831-f2b5-469f-a447-8cea94943815"
      },
      "execution_count": 12,
      "outputs": [
        {
          "output_type": "display_data",
          "data": {
            "text/plain": [
              "<IPython.core.display.Javascript object>"
            ],
            "application/javascript": [
              "\n",
              "    async function download(id, filename, size) {\n",
              "      if (!google.colab.kernel.accessAllowed) {\n",
              "        return;\n",
              "      }\n",
              "      const div = document.createElement('div');\n",
              "      const label = document.createElement('label');\n",
              "      label.textContent = `Downloading \"${filename}\": `;\n",
              "      div.appendChild(label);\n",
              "      const progress = document.createElement('progress');\n",
              "      progress.max = size;\n",
              "      div.appendChild(progress);\n",
              "      document.body.appendChild(div);\n",
              "\n",
              "      const buffers = [];\n",
              "      let downloaded = 0;\n",
              "\n",
              "      const channel = await google.colab.kernel.comms.open(id);\n",
              "      // Send a message to notify the kernel that we're ready.\n",
              "      channel.send({})\n",
              "\n",
              "      for await (const message of channel.messages) {\n",
              "        // Send a message to notify the kernel that we're ready.\n",
              "        channel.send({})\n",
              "        if (message.buffers) {\n",
              "          for (const buffer of message.buffers) {\n",
              "            buffers.push(buffer);\n",
              "            downloaded += buffer.byteLength;\n",
              "            progress.value = downloaded;\n",
              "          }\n",
              "        }\n",
              "      }\n",
              "      const blob = new Blob(buffers, {type: 'application/binary'});\n",
              "      const a = document.createElement('a');\n",
              "      a.href = window.URL.createObjectURL(blob);\n",
              "      a.download = filename;\n",
              "      div.appendChild(a);\n",
              "      a.click();\n",
              "      div.remove();\n",
              "    }\n",
              "  "
            ]
          },
          "metadata": {}
        },
        {
          "output_type": "display_data",
          "data": {
            "text/plain": [
              "<IPython.core.display.Javascript object>"
            ],
            "application/javascript": [
              "download(\"download_3d5ea787-1991-4e4a-b8a1-c9b46479c8de\", \"british_airways_reviews.csv\", 7109)"
            ]
          },
          "metadata": {}
        }
      ]
    },
    {
      "cell_type": "code",
      "source": [],
      "metadata": {
        "id": "M8GYk8eqMM9v"
      },
      "execution_count": 12,
      "outputs": []
    }
  ]
}